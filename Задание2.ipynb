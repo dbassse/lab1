{
 "cells": [
  {
   "cell_type": "code",
   "execution_count": 5,
   "id": "cb23c36f-ee03-438b-ba67-801cc0c6101c",
   "metadata": {},
   "outputs": [
    {
     "name": "stdout",
     "output_type": "stream",
     "text": [
      "Содержимое файла:\n",
      " Первая строка\n",
      "Вторая строка\n",
      "\n",
      "Файл существует: True\n",
      "Файл удален.\n"
     ]
    }
   ],
   "source": [
    "import os\n",
    "\n",
    "# Создание и запись в файл (с кодировкой utf-8)\n",
    "with open(\"example.txt\", \"w\", encoding=\"utf-8\") as f:\n",
    "    f.write(\"Первая строка\\n\")\n",
    "    f.write(\"Вторая строка\\n\")\n",
    "\n",
    "# Чтение файла (с кодировкой utf-8)\n",
    "with open(\"example.txt\", \"r\", encoding=\"utf-8\") as f:\n",
    "    content = f.read()\n",
    "    print(\"Содержимое файла:\\n\", content)\n",
    "\n",
    "# Проверка существования файла\n",
    "print(\"Файл существует:\", os.path.exists(\"example.txt\"))\n",
    "\n",
    "# Удаление файла\n",
    "os.remove(\"example.txt\")\n",
    "print(\"Файл удален.\")\n"
   ]
  },
  {
   "cell_type": "code",
   "execution_count": null,
   "id": "32821f89-029f-4dec-abc9-90f65a13e4ba",
   "metadata": {},
   "outputs": [],
   "source": []
  }
 ],
 "metadata": {
  "kernelspec": {
   "display_name": "Python 3 (ipykernel)",
   "language": "python",
   "name": "python3"
  },
  "language_info": {
   "codemirror_mode": {
    "name": "ipython",
    "version": 3
   },
   "file_extension": ".py",
   "mimetype": "text/x-python",
   "name": "python",
   "nbconvert_exporter": "python",
   "pygments_lexer": "ipython3",
   "version": "3.12.7"
  }
 },
 "nbformat": 4,
 "nbformat_minor": 5
}
