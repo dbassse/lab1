{
 "cells": [
  {
   "cell_type": "code",
   "execution_count": 25,
   "id": "4f706224-760f-4c79-9e4a-d09945ce032a",
   "metadata": {},
   "outputs": [
    {
     "name": "stdout",
     "output_type": "stream",
     "text": [
      "CPU times: total: 0 ns\n",
      "Wall time: 1 s\n",
      "100 ms ± 33.4 μs per loop (mean ± std. dev. of 7 runs, 10 loops each)\n"
     ]
    },
    {
     "name": "stderr",
     "output_type": "stream",
     "text": [
      "UsageError: Line magic function `%%writefile` not found.\n"
     ]
    }
   ],
   "source": [
    "# 1. Вывести список всех доступных магических команд\n",
    "%lsmagic\n",
    "\n",
    "# 2. Измерить время выполнения кода\n",
    "import time\n",
    "\n",
    "%time time.sleep(1)  # Одноразовый замер времени выполнения\n",
    "%timeit time.sleep(0.1)  # Среднее время выполнения нескольких запусков\n",
    "\n",
    "# 3. Создать Python-скрипт и выполнить его\n",
    "%%writefile script.py\n",
    "print(\"Привет, Jupyter!\")\n",
    "\n",
    "!python script.py  # Запуск скрипта\n",
    "\n",
    "# 4. Вывести список файлов в текущей директории\n",
    "%ls\n",
    "\n",
    "# 5. Просмотреть историю команд\n",
    "%history \n"
   ]
  },
  {
   "cell_type": "code",
   "execution_count": null,
   "id": "db6ff912-2a94-4d8a-bca7-d53a376c0bd5",
   "metadata": {},
   "outputs": [],
   "source": []
  }
 ],
 "metadata": {
  "kernelspec": {
   "display_name": "Python 3 (ipykernel)",
   "language": "python",
   "name": "python3"
  },
  "language_info": {
   "codemirror_mode": {
    "name": "ipython",
    "version": 3
   },
   "file_extension": ".py",
   "mimetype": "text/x-python",
   "name": "python",
   "nbconvert_exporter": "python",
   "pygments_lexer": "ipython3",
   "version": "3.12.7"
  }
 },
 "nbformat": 4,
 "nbformat_minor": 5
}
