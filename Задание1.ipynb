{
 "cells": [
  {
   "cell_type": "markdown",
   "id": "de0e6f6f-c3f1-4fc2-813b-1cf75518a3d3",
   "metadata": {},
   "source": [
    "#Практическое задание №1\n",
    "\n",
    "**это же жирный текст** *это же курсивный текст*\n",
    "\n",
    "Маркированный список:\n",
    "- эл 1\n",
    "- эл 2\n",
    "- эл 3\n",
    "\n",
    "Нумерованный список:\n",
    "1. эл 1\n",
    "2. эл 2\n",
    "3. эл 3\n",
    "\n",
    "$A = \\int_{a}^{b} |f(x) - g(x)| \\,dx.$\n",
    "\n",
    "![12314312431324](https://kartinkof.club/uploads/posts/2022-03/1648616912_1-kartinkof-club-p-smeshnie-kartinki-shrek-1.jpg)\n",
    "\n"
   ]
  },
  {
   "cell_type": "code",
   "execution_count": 2,
   "id": "d849d4e3-7f5a-43b3-913a-59db1f36e33f",
   "metadata": {},
   "outputs": [
    {
     "name": "stdin",
     "output_type": "stream",
     "text": [
      "Введите свое имя: jvkjv\n"
     ]
    },
    {
     "name": "stdout",
     "output_type": "stream",
     "text": [
      "Привет, jvkjv ! Добро пожаловать в JupyterLab /Google Colab!\n"
     ]
    }
   ],
   "source": [
    "i=input(\"Введите свое имя:\")\n",
    "\n",
    "print(f'Привет, {i} ! Добро пожаловать в JupyterLab /Google Colab!')"
   ]
  },
  {
   "cell_type": "code",
   "execution_count": null,
   "id": "0fe0826e-7fa8-47fc-b1ff-c8928fcb7bd9",
   "metadata": {},
   "outputs": [],
   "source": []
  }
 ],
 "metadata": {
  "kernelspec": {
   "display_name": "Python 3 (ipykernel)",
   "language": "python",
   "name": "python3"
  },
  "language_info": {
   "codemirror_mode": {
    "name": "ipython",
    "version": 3
   },
   "file_extension": ".py",
   "mimetype": "text/x-python",
   "name": "python",
   "nbconvert_exporter": "python",
   "pygments_lexer": "ipython3",
   "version": "3.12.7"
  }
 },
 "nbformat": 4,
 "nbformat_minor": 5
}
