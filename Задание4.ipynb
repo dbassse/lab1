{
 "cells": [
  {
   "cell_type": "code",
   "execution_count": 2,
   "id": "e6de43a4-dadc-4f5a-8a88-4360e4f41d6e",
   "metadata": {},
   "outputs": [
    {
     "name": "stdout",
     "output_type": "stream",
     "text": [
      " Volume in drive C is Windows\n",
      " Volume Serial Number is 4A94-53FB\n",
      "\n",
      " Directory of C:\\Users\\Admino\\anaconda3\\Scripts\\notebooks\n",
      "\n",
      "18.02.2025  21:29    <DIR>          .\n",
      "18.02.2025  19:08    <DIR>          ..\n",
      "18.02.2025  21:29    <DIR>          .ipynb_checkpoints\n",
      "18.02.2025  21:07                28 example.txt\n",
      "18.02.2025  17:29             2ÿ155 Lightyear.ipynb\n",
      "18.02.2025  18:08            41ÿ536 Lyghtyear2.ipynb\n",
      "18.02.2025  21:07    <DIR>          test_folder\n",
      "18.02.2025  21:29                72 Untitled.ipynb\n",
      "18.02.2025  20:21             1ÿ985 ???????1.ipynb\n",
      "18.02.2025  20:33             1ÿ913 ???????2.ipynb\n",
      "18.02.2025  21:29             2ÿ069 ???????3.ipynb\n",
      "               7 File(s)         49ÿ758 bytes\n",
      "               4 Dir(s)  283ÿ900ÿ588ÿ032 bytes free\n",
      "C:\\Users\\Admino\\anaconda3\\python.exe\n",
      "D:\\Python\\python.exe\n",
      "C:\\Users\\Admino\\AppData\\Local\\Microsoft\\WindowsApps\\python.exe\n"
     ]
    },
    {
     "name": "stderr",
     "output_type": "stream",
     "text": [
      "A subdirectory or file test_folder already exists.\n"
     ]
    },
    {
     "name": "stdout",
     "output_type": "stream",
     "text": [
      " Volume in drive C is Windows\n",
      " Volume Serial Number is 4A94-53FB\n",
      "\n",
      " Directory of C:\\Users\\Admino\\anaconda3\\Scripts\\notebooks\n",
      "\n",
      "18.02.2025  21:29    <DIR>          .\n",
      "18.02.2025  19:08    <DIR>          ..\n",
      "18.02.2025  21:29    <DIR>          .ipynb_checkpoints\n",
      "18.02.2025  21:07                28 example.txt\n",
      "18.02.2025  17:29             2ÿ155 Lightyear.ipynb\n",
      "18.02.2025  18:08            41ÿ536 Lyghtyear2.ipynb\n",
      "18.02.2025  21:07    <DIR>          test_folder\n",
      "18.02.2025  21:29                72 Untitled.ipynb\n",
      "18.02.2025  20:21             1ÿ985 ???????1.ipynb\n",
      "18.02.2025  20:33             1ÿ913 ???????2.ipynb\n",
      "18.02.2025  21:29             2ÿ069 ???????3.ipynb\n",
      "               7 File(s)         49ÿ758 bytes\n",
      "               4 Dir(s)  283ÿ900ÿ583ÿ936 bytes free\n",
      " Volume in drive C is Windows\n",
      " Volume Serial Number is 4A94-53FB\n",
      "\n",
      " Directory of C:\\Users\\Admino\\anaconda3\\Scripts\\notebooks\n",
      "\n",
      "18.02.2025  21:29    <DIR>          .\n",
      "18.02.2025  19:08    <DIR>          ..\n",
      "18.02.2025  21:29    <DIR>          .ipynb_checkpoints\n",
      "18.02.2025  21:31                26 example.txt\n",
      "18.02.2025  17:29             2ÿ155 Lightyear.ipynb\n",
      "18.02.2025  18:08            41ÿ536 Lyghtyear2.ipynb\n",
      "18.02.2025  21:07    <DIR>          test_folder\n",
      "18.02.2025  21:29                72 Untitled.ipynb\n",
      "18.02.2025  20:21             1ÿ985 ???????1.ipynb\n",
      "18.02.2025  20:33             1ÿ913 ???????2.ipynb\n",
      "18.02.2025  21:29             2ÿ069 ???????3.ipynb\n",
      "               7 File(s)         49ÿ756 bytes\n",
      "               4 Dir(s)  283ÿ900ÿ518ÿ400 bytes free\n",
      "        1 file(s) moved.\n",
      " Volume in drive C is Windows\n",
      " Volume Serial Number is 4A94-53FB\n",
      "\n",
      " Directory of C:\\Users\\Admino\\anaconda3\\Scripts\\notebooks\\test_folder\n",
      "\n",
      "18.02.2025  21:31    <DIR>          .\n",
      "18.02.2025  21:31    <DIR>          ..\n",
      "18.02.2025  21:31                26 example.txt\n",
      "               1 File(s)             26 bytes\n",
      "               2 Dir(s)  283ÿ900ÿ518ÿ400 bytes free\n",
      " Volume in drive C is Windows\n",
      " Volume Serial Number is 4A94-53FB\n",
      "\n",
      " Directory of C:\\Users\\Admino\\anaconda3\\Scripts\\notebooks\\test_folder\n",
      "\n",
      "18.02.2025  21:31    <DIR>          .\n",
      "18.02.2025  21:31    <DIR>          ..\n",
      "               0 File(s)              0 bytes\n",
      "               2 Dir(s)  283ÿ900ÿ518ÿ400 bytes free\n",
      "\f",
      "\n"
     ]
    }
   ],
   "source": [
    "# 1. Вывод списка файлов в текущей директории\n",
    "!dir\n",
    "\n",
    "# 2. Проверка, какой Python используется\n",
    "!where python\n",
    "\n",
    "# 3. Создание папки test_folder и проверка\n",
    "!mkdir test_folder\n",
    "!dir\n",
    "\n",
    "# 4. Перемещение и удаление файла\n",
    "!echo This is an example file > example.txt\n",
    "!dir\n",
    "!move example.txt test_folder/\n",
    "!dir test_folder\n",
    "!del test_folder\\example.txt\n",
    "!dir test_folder\n",
    "\n",
    "# 5. Очистка вывода\n",
    "%clear"
   ]
  },
  {
   "cell_type": "code",
   "execution_count": null,
   "id": "669735a6-b22a-4fbb-aaa9-0aa9880d39cc",
   "metadata": {},
   "outputs": [],
   "source": []
  }
 ],
 "metadata": {
  "kernelspec": {
   "display_name": "Python 3 (ipykernel)",
   "language": "python",
   "name": "python3"
  },
  "language_info": {
   "codemirror_mode": {
    "name": "ipython",
    "version": 3
   },
   "file_extension": ".py",
   "mimetype": "text/x-python",
   "name": "python",
   "nbconvert_exporter": "python",
   "pygments_lexer": "ipython3",
   "version": "3.12.7"
  }
 },
 "nbformat": 4,
 "nbformat_minor": 5
}
